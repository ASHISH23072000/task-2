{
 "cells": [
  {
   "cell_type": "code",
   "execution_count": 1,
   "metadata": {},
   "outputs": [],
   "source": [
    "import numpy as np \n",
    "import pandas as pd \n",
    "import matplotlib.pyplot as plt \n",
    "from sklearn.preprocessing import MinMaxScaler\n",
    "from keras.models import Sequential\n",
    "from keras.layers import Dense,LSTM,Dropout"
   ]
  },
  {
   "cell_type": "code",
   "execution_count": 2,
   "metadata": {},
   "outputs": [
    {
     "data": {
      "text/html": [
       "<div>\n",
       "<style scoped>\n",
       "    .dataframe tbody tr th:only-of-type {\n",
       "        vertical-align: middle;\n",
       "    }\n",
       "\n",
       "    .dataframe tbody tr th {\n",
       "        vertical-align: top;\n",
       "    }\n",
       "\n",
       "    .dataframe thead th {\n",
       "        text-align: right;\n",
       "    }\n",
       "</style>\n",
       "<table border=\"1\" class=\"dataframe\">\n",
       "  <thead>\n",
       "    <tr style=\"text-align: right;\">\n",
       "      <th></th>\n",
       "      <th>Date</th>\n",
       "      <th>Open</th>\n",
       "      <th>High</th>\n",
       "      <th>Low</th>\n",
       "      <th>Close</th>\n",
       "      <th>Volume</th>\n",
       "    </tr>\n",
       "  </thead>\n",
       "  <tbody>\n",
       "    <tr>\n",
       "      <th>0</th>\n",
       "      <td>1/3/2012</td>\n",
       "      <td>325.25</td>\n",
       "      <td>332.83</td>\n",
       "      <td>324.97</td>\n",
       "      <td>663.59</td>\n",
       "      <td>7,380,500</td>\n",
       "    </tr>\n",
       "    <tr>\n",
       "      <th>1</th>\n",
       "      <td>1/4/2012</td>\n",
       "      <td>331.27</td>\n",
       "      <td>333.87</td>\n",
       "      <td>329.08</td>\n",
       "      <td>666.45</td>\n",
       "      <td>5,749,400</td>\n",
       "    </tr>\n",
       "    <tr>\n",
       "      <th>2</th>\n",
       "      <td>1/5/2012</td>\n",
       "      <td>329.83</td>\n",
       "      <td>330.75</td>\n",
       "      <td>326.89</td>\n",
       "      <td>657.21</td>\n",
       "      <td>6,590,300</td>\n",
       "    </tr>\n",
       "    <tr>\n",
       "      <th>3</th>\n",
       "      <td>1/6/2012</td>\n",
       "      <td>328.34</td>\n",
       "      <td>328.77</td>\n",
       "      <td>323.68</td>\n",
       "      <td>648.24</td>\n",
       "      <td>5,405,900</td>\n",
       "    </tr>\n",
       "    <tr>\n",
       "      <th>4</th>\n",
       "      <td>1/9/2012</td>\n",
       "      <td>322.04</td>\n",
       "      <td>322.29</td>\n",
       "      <td>309.46</td>\n",
       "      <td>620.76</td>\n",
       "      <td>11,688,800</td>\n",
       "    </tr>\n",
       "  </tbody>\n",
       "</table>\n",
       "</div>"
      ],
      "text/plain": [
       "       Date    Open    High     Low   Close      Volume\n",
       "0  1/3/2012  325.25  332.83  324.97  663.59   7,380,500\n",
       "1  1/4/2012  331.27  333.87  329.08  666.45   5,749,400\n",
       "2  1/5/2012  329.83  330.75  326.89  657.21   6,590,300\n",
       "3  1/6/2012  328.34  328.77  323.68  648.24   5,405,900\n",
       "4  1/9/2012  322.04  322.29  309.46  620.76  11,688,800"
      ]
     },
     "execution_count": 2,
     "metadata": {},
     "output_type": "execute_result"
    }
   ],
   "source": [
    "data = pd.read_csv('Google_train_data.csv')\n",
    "data.head()"
   ]
  },
  {
   "cell_type": "code",
   "execution_count": 3,
   "metadata": {},
   "outputs": [
    {
     "name": "stdout",
     "output_type": "stream",
     "text": [
      "<class 'pandas.core.frame.DataFrame'>\n",
      "RangeIndex: 1258 entries, 0 to 1257\n",
      "Data columns (total 6 columns):\n",
      " #   Column  Non-Null Count  Dtype  \n",
      "---  ------  --------------  -----  \n",
      " 0   Date    1258 non-null   object \n",
      " 1   Open    1258 non-null   float64\n",
      " 2   High    1258 non-null   float64\n",
      " 3   Low     1258 non-null   float64\n",
      " 4   Close   1258 non-null   object \n",
      " 5   Volume  1258 non-null   object \n",
      "dtypes: float64(3), object(3)\n",
      "memory usage: 59.1+ KB\n"
     ]
    }
   ],
   "source": [
    "data.info()"
   ]
  },
  {
   "cell_type": "code",
   "execution_count": 4,
   "metadata": {},
   "outputs": [],
   "source": [
    "data[\"Close\"]=pd.to_numeric(data.Close,errors='coerce')\n",
    "data = data.dropna()\n",
    "trainData = data.iloc[:,4:5].values"
   ]
  },
  {
   "cell_type": "code",
   "execution_count": 5,
   "metadata": {},
   "outputs": [
    {
     "name": "stdout",
     "output_type": "stream",
     "text": [
      "<class 'pandas.core.frame.DataFrame'>\n",
      "Int64Index: 1149 entries, 0 to 1257\n",
      "Data columns (total 6 columns):\n",
      " #   Column  Non-Null Count  Dtype  \n",
      "---  ------  --------------  -----  \n",
      " 0   Date    1149 non-null   object \n",
      " 1   Open    1149 non-null   float64\n",
      " 2   High    1149 non-null   float64\n",
      " 3   Low     1149 non-null   float64\n",
      " 4   Close   1149 non-null   float64\n",
      " 5   Volume  1149 non-null   object \n",
      "dtypes: float64(4), object(2)\n",
      "memory usage: 62.8+ KB\n"
     ]
    }
   ],
   "source": [
    "data.info()"
   ]
  },
  {
   "cell_type": "code",
   "execution_count": 6,
   "metadata": {},
   "outputs": [
    {
     "data": {
      "text/plain": [
       "(1149, 1)"
      ]
     },
     "execution_count": 6,
     "metadata": {},
     "output_type": "execute_result"
    }
   ],
   "source": [
    "sc = MinMaxScaler(feature_range=(0,1))\n",
    "trainData = sc.fit_transform(trainData)\n",
    "trainData.shape"
   ]
  },
  {
   "cell_type": "code",
   "execution_count": 7,
   "metadata": {},
   "outputs": [],
   "source": [
    "X_train = []\n",
    "y_train = []\n",
    "\n",
    "for i in range (60,1149): #60 : timestep // 1149 : length of the data\n",
    "    X_train.append(trainData[i-60:i,0]) \n",
    "    y_train.append(trainData[i,0])\n",
    "\n",
    "X_train,y_train = np.array(X_train),np.array(y_train)"
   ]
  },
  {
   "cell_type": "code",
   "execution_count": 8,
   "metadata": {},
   "outputs": [
    {
     "data": {
      "text/plain": [
       "(1089, 60, 1)"
      ]
     },
     "execution_count": 8,
     "metadata": {},
     "output_type": "execute_result"
    }
   ],
   "source": [
    "X_train = np.reshape(X_train,(X_train.shape[0],X_train.shape[1],1)) #adding the batch_size axis\n",
    "X_train.shape"
   ]
  },
  {
   "cell_type": "code",
   "execution_count": 9,
   "metadata": {},
   "outputs": [],
   "source": [
    "model = Sequential()\n",
    "\n",
    "model.add(LSTM(units=100, return_sequences = True, input_shape =(X_train.shape[1],1)))\n",
    "model.add(Dropout(0.2))\n",
    "\n",
    "model.add(LSTM(units=100, return_sequences = True))\n",
    "model.add(Dropout(0.2))\n",
    "\n",
    "model.add(LSTM(units=100, return_sequences = True))\n",
    "model.add(Dropout(0.2))\n",
    "\n",
    "model.add(LSTM(units=100, return_sequences = False))\n",
    "model.add(Dropout(0.2))\n",
    "\n",
    "model.add(Dense(units =1))\n",
    "model.compile(optimizer='adam',loss=\"mean_squared_error\")"
   ]
  },
  {
   "cell_type": "code",
   "execution_count": 10,
   "metadata": {},
   "outputs": [
    {
     "name": "stdout",
     "output_type": "stream",
     "text": [
      "Epoch 1/20\n",
      "35/35 - 18s - loss: 0.0368 - 18s/epoch - 503ms/step\n",
      "Epoch 2/20\n",
      "35/35 - 7s - loss: 0.0112 - 7s/epoch - 187ms/step\n",
      "Epoch 3/20\n",
      "35/35 - 6s - loss: 0.0098 - 6s/epoch - 185ms/step\n",
      "Epoch 4/20\n",
      "35/35 - 6s - loss: 0.0112 - 6s/epoch - 182ms/step\n",
      "Epoch 5/20\n",
      "35/35 - 7s - loss: 0.0091 - 7s/epoch - 191ms/step\n",
      "Epoch 6/20\n",
      "35/35 - 6s - loss: 0.0072 - 6s/epoch - 182ms/step\n",
      "Epoch 7/20\n",
      "35/35 - 6s - loss: 0.0067 - 6s/epoch - 183ms/step\n",
      "Epoch 8/20\n",
      "35/35 - 6s - loss: 0.0070 - 6s/epoch - 165ms/step\n",
      "Epoch 9/20\n",
      "35/35 - 3s - loss: 0.0066 - 3s/epoch - 88ms/step\n",
      "Epoch 10/20\n",
      "35/35 - 3s - loss: 0.0062 - 3s/epoch - 90ms/step\n",
      "Epoch 11/20\n",
      "35/35 - 3s - loss: 0.0068 - 3s/epoch - 89ms/step\n",
      "Epoch 12/20\n",
      "35/35 - 3s - loss: 0.0060 - 3s/epoch - 89ms/step\n",
      "Epoch 13/20\n",
      "35/35 - 3s - loss: 0.0061 - 3s/epoch - 88ms/step\n",
      "Epoch 14/20\n",
      "35/35 - 3s - loss: 0.0056 - 3s/epoch - 86ms/step\n",
      "Epoch 15/20\n",
      "35/35 - 3s - loss: 0.0065 - 3s/epoch - 85ms/step\n",
      "Epoch 16/20\n",
      "35/35 - 3s - loss: 0.0056 - 3s/epoch - 85ms/step\n",
      "Epoch 17/20\n",
      "35/35 - 3s - loss: 0.0051 - 3s/epoch - 87ms/step\n",
      "Epoch 18/20\n",
      "35/35 - 3s - loss: 0.0053 - 3s/epoch - 87ms/step\n",
      "Epoch 19/20\n",
      "35/35 - 3s - loss: 0.0049 - 3s/epoch - 90ms/step\n",
      "Epoch 20/20\n",
      "35/35 - 3s - loss: 0.0060 - 3s/epoch - 85ms/step\n"
     ]
    }
   ],
   "source": [
    "hist = model.fit(X_train, y_train, epochs = 20, batch_size = 32, verbose=2)"
   ]
  },
  {
   "cell_type": "code",
   "execution_count": 11,
   "metadata": {},
   "outputs": [
    {
     "data": {
      "image/png": "[encoded data removed]",
      "text/plain": [
       "<Figure size 640x480 with 1 Axes>"
      ]
     },
     "metadata": {},
     "output_type": "display_data"
    }
   ],
   "source": [
    "plt.plot(hist.history['loss'])\n",
    "plt.title('Training model loss')\n",
    "plt.ylabel('loss')\n",
    "plt.xlabel('epoch')\n",
    "plt.legend(['train'], loc='upper left')\n",
    "plt.show()"
   ]
  },
  {
   "cell_type": "code",
   "execution_count": 12,
   "metadata": {},
   "outputs": [
    {
     "data": {
      "text/plain": [
       "(192, 60, 1)"
      ]
     },
     "execution_count": 12,
     "metadata": {},
     "output_type": "execute_result"
    }
   ],
   "source": [
    "testData = pd.read_csv('Google_test_data.csv')\n",
    "testData[\"Close\"]=pd.to_numeric(testData.Close,errors='coerce')\n",
    "testData = testData.dropna()\n",
    "testData = testData.iloc[:,4:5]\n",
    "y_test = testData.iloc[60:,0:].values \n",
    "#input array for the model\n",
    "inputClosing = testData.iloc[:,0:].values \n",
    "inputClosing_scaled = sc.transform(inputClosing)\n",
    "inputClosing_scaled.shape\n",
    "X_test = []\n",
    "length = len(testData)\n",
    "timestep = 60\n",
    "for i in range(timestep,length):  \n",
    "    X_test.append(inputClosing_scaled[i-timestep:i,0])\n",
    "X_test = np.array(X_test)\n",
    "X_test = np.reshape(X_test,(X_test.shape[0],X_test.shape[1],1))\n",
    "X_test.shape"
   ]
  },
  {
   "cell_type": "code",
   "execution_count": 13,
   "metadata": {},
   "outputs": [
    {
     "name": "stdout",
     "output_type": "stream",
     "text": [
      "6/6 [==============================] - 1s 26ms/step\n"
     ]
    },
    {
     "data": {
      "text/plain": [
       "array([[1.1020504],\n",
       "       [1.1050727],\n",
       "       [1.1156582],\n",
       "       [1.131656 ],\n",
       "       [1.1452861],\n",
       "       [1.1471171],\n",
       "       [1.136759 ],\n",
       "       [1.1207987],\n",
       "       [1.1093385],\n",
       "       [1.1051552],\n",
       "       [1.0987544],\n",
       "       [1.0887617],\n",
       "       [1.0795006],\n",
       "       [1.0708975],\n",
       "       [1.0684204],\n",
       "       [1.0719547],\n",
       "       [1.0875765],\n",
       "       [1.1131622],\n",
       "       [1.1433173],\n",
       "       [1.1738535],\n",
       "       [1.1880885],\n",
       "       [1.1870313],\n",
       "       [1.1696621],\n",
       "       [1.1430154],\n",
       "       [1.1175854],\n",
       "       [1.101562 ],\n",
       "       [1.0960903],\n",
       "       [1.0946928],\n",
       "       [1.0886238],\n",
       "       [1.0793548],\n",
       "       [1.0688037],\n",
       "       [1.0566823],\n",
       "       [1.0388412],\n",
       "       [1.0166172],\n",
       "       [1.0061874],\n",
       "       [1.0128964],\n",
       "       [1.0316919],\n",
       "       [1.0546236],\n",
       "       [1.0772388],\n",
       "       [1.0901244],\n",
       "       [1.1022398],\n",
       "       [1.1161253],\n",
       "       [1.1320084],\n",
       "       [1.1470028],\n",
       "       [1.15749  ],\n",
       "       [1.1594709],\n",
       "       [1.1511656],\n",
       "       [1.1425707],\n",
       "       [1.1391497],\n",
       "       [1.1431407],\n",
       "       [1.1541004],\n",
       "       [1.1625262],\n",
       "       [1.1656604],\n",
       "       [1.1637142],\n",
       "       [1.1622436],\n",
       "       [1.1589197],\n",
       "       [1.1515491],\n",
       "       [1.1472374],\n",
       "       [1.1539993],\n",
       "       [1.1694422],\n",
       "       [1.1926821],\n",
       "       [1.2212903],\n",
       "       [1.2426631],\n",
       "       [1.2482977],\n",
       "       [1.238997 ],\n",
       "       [1.2209984],\n",
       "       [1.2067518],\n",
       "       [1.2004771],\n",
       "       [1.2016971],\n",
       "       [1.20574  ],\n",
       "       [1.2106119],\n",
       "       [1.2139438],\n",
       "       [1.2114698],\n",
       "       [1.2067795],\n",
       "       [1.2023512],\n",
       "       [1.2006605],\n",
       "       [1.2020509],\n",
       "       [1.2062907],\n",
       "       [1.2165196],\n",
       "       [1.232411 ],\n",
       "       [1.2533119],\n",
       "       [1.2739751],\n",
       "       [1.2867615],\n",
       "       [1.2897699],\n",
       "       [1.2927741],\n",
       "       [1.3026707],\n",
       "       [1.3179593],\n",
       "       [1.3321339],\n",
       "       [1.3410232],\n",
       "       [1.343733 ],\n",
       "       [1.34498  ],\n",
       "       [1.3523643],\n",
       "       [1.3669114],\n",
       "       [1.3780215],\n",
       "       [1.3785822],\n",
       "       [1.3678026],\n",
       "       [1.347902 ],\n",
       "       [1.3239579],\n",
       "       [1.3028545],\n",
       "       [1.2932285],\n",
       "       [1.296752 ],\n",
       "       [1.3105052],\n",
       "       [1.3307068],\n",
       "       [1.3498365],\n",
       "       [1.3627548],\n",
       "       [1.3668823],\n",
       "       [1.3650786],\n",
       "       [1.3610308],\n",
       "       [1.3601191],\n",
       "       [1.3636765],\n",
       "       [1.3713479],\n",
       "       [1.3826962],\n",
       "       [1.3947911],\n",
       "       [1.4077835],\n",
       "       [1.4234927],\n",
       "       [1.437225 ],\n",
       "       [1.4478784],\n",
       "       [1.4567091],\n",
       "       [1.4671193],\n",
       "       [1.4530697],\n",
       "       [1.4118444],\n",
       "       [1.3565023],\n",
       "       [1.3081617],\n",
       "       [1.2777735],\n",
       "       [1.2630432],\n",
       "       [1.2582259],\n",
       "       [1.2584422],\n",
       "       [1.261624 ],\n",
       "       [1.2591939],\n",
       "       [1.2483157],\n",
       "       [1.242466 ],\n",
       "       [1.249269 ],\n",
       "       [1.2628146],\n",
       "       [1.2717934],\n",
       "       [1.2753398],\n",
       "       [1.2753987],\n",
       "       [1.2715322],\n",
       "       [1.2636243],\n",
       "       [1.2539933],\n",
       "       [1.241189 ],\n",
       "       [1.2274914],\n",
       "       [1.2125134],\n",
       "       [1.1837711],\n",
       "       [1.1482196],\n",
       "       [1.1126475],\n",
       "       [1.0838535],\n",
       "       [1.0697378],\n",
       "       [1.0735061],\n",
       "       [1.0906038],\n",
       "       [1.1133804],\n",
       "       [1.1376405],\n",
       "       [1.1586213],\n",
       "       [1.1750892],\n",
       "       [1.1887484],\n",
       "       [1.1993264],\n",
       "       [1.2082059],\n",
       "       [1.217453 ],\n",
       "       [1.224997 ],\n",
       "       [1.2230699],\n",
       "       [1.2104684],\n",
       "       [1.1907904],\n",
       "       [1.1706765],\n",
       "       [1.1582365],\n",
       "       [1.158025 ],\n",
       "       [1.1700122],\n",
       "       [1.191195 ],\n",
       "       [1.212004 ],\n",
       "       [1.2286329],\n",
       "       [1.2429078],\n",
       "       [1.2555563],\n",
       "       [1.2658461],\n",
       "       [1.2740066],\n",
       "       [1.2803184],\n",
       "       [1.282816 ],\n",
       "       [1.2814566],\n",
       "       [1.2737777],\n",
       "       [1.263464 ],\n",
       "       [1.2555704],\n",
       "       [1.2499382],\n",
       "       [1.244958 ],\n",
       "       [1.2669672],\n",
       "       [1.3122245],\n",
       "       [1.3621798],\n",
       "       [1.4000912],\n",
       "       [1.4179401],\n",
       "       [1.4142616],\n",
       "       [1.3862938],\n",
       "       [1.3487222],\n",
       "       [1.3145334],\n",
       "       [1.297471 ],\n",
       "       [1.294273 ],\n",
       "       [1.2962921]], dtype=float32)"
      ]
     },
     "execution_count": 13,
     "metadata": {},
     "output_type": "execute_result"
    }
   ],
   "source": [
    "y_pred = model.predict(X_test)\n",
    "y_pred"
   ]
  },
  {
   "cell_type": "code",
   "execution_count": 14,
   "metadata": {},
   "outputs": [],
   "source": [
    "predicted_price = sc.inverse_transform(y_pred)"
   ]
  },
  {
   "cell_type": "code",
   "execution_count": 15,
   "metadata": {},
   "outputs": [
    {
     "data": {
      "image/png": "[encoded data removed]",
      "text/plain": [
       "<Figure size 640x480 with 1 Axes>"
      ]
     },
     "metadata": {},
     "output_type": "display_data"
    }
   ],
   "source": [
    "plt.plot(y_test, color = 'red', label = 'Actual Stock Price')\n",
    "plt.plot(predicted_price, color = 'green', label = 'Predicted Stock Price')\n",
    "plt.title('Google stock price prediction')\n",
    "plt.xlabel('Time')\n",
    "plt.ylabel('Stock Price')\n",
    "plt.legend()\n",
    "plt.show()"
   ]
  }
 ],
 "metadata": {
  "kernelspec": {
   "display_name": "Python 3 (ipykernel)",
   "language": "python",
   "name": "python3"
  },
  "language_info": {
   "codemirror_mode": {
    "name": "ipython",
    "version": 3
   },
   "file_extension": ".py",
   "mimetype": "text/x-python",
   "name": "python",
   "nbconvert_exporter": "python",
   "pygments_lexer": "ipython3",
   "version": "3.10.9"
  }
 },
 "nbformat": 4,
 "nbformat_minor": 4
}
